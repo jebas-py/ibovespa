{
 "cells": [
  {
   "cell_type": "markdown",
   "id": "e6e189b6",
   "metadata": {},
   "source": [
    "# Libraries and versions"
   ]
  },
  {
   "cell_type": "code",
   "execution_count": 11,
   "id": "c066036e",
   "metadata": {},
   "outputs": [],
   "source": [
    "python_version = !python -V #version 3.7.9\n",
    "import pandas as pd #version 1.2.4\n",
    "import numpy as np #version 1.20.1\n",
    "import seaborn as sns #version 0.11.0\n",
    "import matplotlib as plt #version 3.3.3\n",
    "from random import randint\n",
    "\n",
    "#Modelo\n",
    "from sklearn.metrics import mean_squared_log_error, r2_score\n"
   ]
  },
  {
   "cell_type": "code",
   "execution_count": 12,
   "id": "c9ab903a",
   "metadata": {},
   "outputs": [
    {
     "name": "stdout",
     "output_type": "stream",
     "text": [
      "Python version - 3.7.9\n",
      "Pandas version - 1.2.4\n",
      "Numpy version - 1.20.1\n",
      "Seaborn version - 0.11.0\n",
      "Matplotlib version - 3.3.3\n"
     ]
    }
   ],
   "source": [
    "print(f'Python version - {python_version[0][7:]}')\n",
    "print(f'Pandas version - {pd.__version__}')\n",
    "print(f'Numpy version - {np.__version__}')\n",
    "print(f'Seaborn version - {sns.__version__}')\n",
    "print(f'Matplotlib version - {plt.__version__}')"
   ]
  },
  {
   "cell_type": "markdown",
   "id": "8e642c74",
   "metadata": {},
   "source": [
    "# Configurations"
   ]
  },
  {
   "cell_type": "markdown",
   "id": "685bbe80",
   "metadata": {},
   "source": [
    "## Pandas"
   ]
  },
  {
   "cell_type": "code",
   "execution_count": 13,
   "id": "dec43ead",
   "metadata": {},
   "outputs": [],
   "source": [
    "#apresentará 500 colunas e linhas\n",
    "pd.set_option('display.max_columns', 500)\n",
    "pd.set_option('display.max_rows', 20)"
   ]
  },
  {
   "cell_type": "markdown",
   "id": "e398d690",
   "metadata": {},
   "source": [
    "## Seaborn"
   ]
  },
  {
   "cell_type": "code",
   "execution_count": 109,
   "id": "9dc816cd",
   "metadata": {},
   "outputs": [],
   "source": [
    "sns.set_palette('inferno')\n",
    "sns.set_style('darkgrid')\n",
    "\n",
    "def configuration(graphic_object, title=None, xlabel=None, ylabel=None, colors='black'):\n",
    "    graphic_object.figure.set_size_inches(15,4)\n",
    "    graphic_object.set_title(title, color=colors, fontsize=16)\n",
    "    graphic_object.set_xlabel(xlabel, color=colors, fontsize=14)\n",
    "    graphic_object.set_ylabel(ylabel, color=colors, fontsize=14)\n",
    "    graphic_object = graphic_object"
   ]
  },
  {
   "cell_type": "markdown",
   "id": "95a8941c",
   "metadata": {},
   "source": [
    "## Warnings"
   ]
  },
  {
   "cell_type": "code",
   "execution_count": 15,
   "id": "7e254937",
   "metadata": {},
   "outputs": [],
   "source": [
    "import warnings\n",
    "warnings.filterwarnings(\"ignore\")"
   ]
  },
  {
   "cell_type": "markdown",
   "id": "6fb2970f",
   "metadata": {},
   "source": [
    "## Base"
   ]
  },
  {
   "cell_type": "code",
   "execution_count": 16,
   "id": "8d782277",
   "metadata": {},
   "outputs": [
    {
     "data": {
      "text/html": [
       "<div>\n",
       "<style scoped>\n",
       "    .dataframe tbody tr th:only-of-type {\n",
       "        vertical-align: middle;\n",
       "    }\n",
       "\n",
       "    .dataframe tbody tr th {\n",
       "        vertical-align: top;\n",
       "    }\n",
       "\n",
       "    .dataframe thead th {\n",
       "        text-align: right;\n",
       "    }\n",
       "</style>\n",
       "<table border=\"1\" class=\"dataframe\">\n",
       "  <thead>\n",
       "    <tr style=\"text-align: right;\">\n",
       "      <th></th>\n",
       "      <th>data</th>\n",
       "      <th>abertura</th>\n",
       "      <th>alta</th>\n",
       "      <th>baixa</th>\n",
       "      <th>fechamento</th>\n",
       "      <th>var_abertura</th>\n",
       "      <th>media_movel_180</th>\n",
       "      <th>media_movel_240</th>\n",
       "      <th>media_movel_360</th>\n",
       "      <th>media_movel_480</th>\n",
       "    </tr>\n",
       "  </thead>\n",
       "  <tbody>\n",
       "    <tr>\n",
       "      <th>0</th>\n",
       "      <td>1995-02-27</td>\n",
       "      <td>3217.399902</td>\n",
       "      <td>3345.800049</td>\n",
       "      <td>3184.399902</td>\n",
       "      <td>3270.899902</td>\n",
       "      <td>0.000000</td>\n",
       "      <td>4404.944448</td>\n",
       "      <td>3785.654587</td>\n",
       "      <td>2719.633892</td>\n",
       "      <td>2057.587711</td>\n",
       "    </tr>\n",
       "    <tr>\n",
       "      <th>1</th>\n",
       "      <td>1995-02-28</td>\n",
       "      <td>3217.399902</td>\n",
       "      <td>3345.800049</td>\n",
       "      <td>3184.399902</td>\n",
       "      <td>3270.899902</td>\n",
       "      <td>0.000000</td>\n",
       "      <td>4404.830560</td>\n",
       "      <td>3792.938337</td>\n",
       "      <td>2728.090837</td>\n",
       "      <td>2064.238961</td>\n",
       "    </tr>\n",
       "    <tr>\n",
       "      <th>2</th>\n",
       "      <td>1995-03-01</td>\n",
       "      <td>3217.399902</td>\n",
       "      <td>3345.800049</td>\n",
       "      <td>3184.399902</td>\n",
       "      <td>3270.899902</td>\n",
       "      <td>0.000000</td>\n",
       "      <td>4404.943892</td>\n",
       "      <td>3800.340836</td>\n",
       "      <td>2736.526114</td>\n",
       "      <td>2070.890836</td>\n",
       "    </tr>\n",
       "    <tr>\n",
       "      <th>3</th>\n",
       "      <td>1995-03-02</td>\n",
       "      <td>3270.899902</td>\n",
       "      <td>3270.899902</td>\n",
       "      <td>2970.199951</td>\n",
       "      <td>2989.100098</td>\n",
       "      <td>53.500000</td>\n",
       "      <td>4405.345558</td>\n",
       "      <td>3807.966252</td>\n",
       "      <td>2745.099169</td>\n",
       "      <td>2077.654585</td>\n",
       "    </tr>\n",
       "    <tr>\n",
       "      <th>4</th>\n",
       "      <td>1995-03-03</td>\n",
       "      <td>2989.100098</td>\n",
       "      <td>3018.100098</td>\n",
       "      <td>2841.699951</td>\n",
       "      <td>2988.000000</td>\n",
       "      <td>-281.799804</td>\n",
       "      <td>4404.507225</td>\n",
       "      <td>3814.417502</td>\n",
       "      <td>2752.882781</td>\n",
       "      <td>2083.832502</td>\n",
       "    </tr>\n",
       "  </tbody>\n",
       "</table>\n",
       "</div>"
      ],
      "text/plain": [
       "         data     abertura         alta        baixa   fechamento  \\\n",
       "0  1995-02-27  3217.399902  3345.800049  3184.399902  3270.899902   \n",
       "1  1995-02-28  3217.399902  3345.800049  3184.399902  3270.899902   \n",
       "2  1995-03-01  3217.399902  3345.800049  3184.399902  3270.899902   \n",
       "3  1995-03-02  3270.899902  3270.899902  2970.199951  2989.100098   \n",
       "4  1995-03-03  2989.100098  3018.100098  2841.699951  2988.000000   \n",
       "\n",
       "   var_abertura  media_movel_180  media_movel_240  media_movel_360  \\\n",
       "0      0.000000      4404.944448      3785.654587      2719.633892   \n",
       "1      0.000000      4404.830560      3792.938337      2728.090837   \n",
       "2      0.000000      4404.943892      3800.340836      2736.526114   \n",
       "3     53.500000      4405.345558      3807.966252      2745.099169   \n",
       "4   -281.799804      4404.507225      3814.417502      2752.882781   \n",
       "\n",
       "   media_movel_480  \n",
       "0      2057.587711  \n",
       "1      2064.238961  \n",
       "2      2070.890836  \n",
       "3      2077.654585  \n",
       "4      2083.832502  "
      ]
     },
     "execution_count": 16,
     "metadata": {},
     "output_type": "execute_result"
    }
   ],
   "source": [
    "bvsp = pd.read_csv('bvsp_modelado_original.csv')\n",
    "bvsp.head()"
   ]
  },
  {
   "cell_type": "markdown",
   "id": "64982eb2",
   "metadata": {},
   "source": [
    "### Informações"
   ]
  },
  {
   "cell_type": "code",
   "execution_count": 17,
   "id": "d619df01",
   "metadata": {},
   "outputs": [
    {
     "name": "stdout",
     "output_type": "stream",
     "text": [
      "<class 'pandas.core.frame.DataFrame'>\n",
      "RangeIndex: 6637 entries, 0 to 6636\n",
      "Data columns (total 10 columns):\n",
      " #   Column           Non-Null Count  Dtype  \n",
      "---  ------           --------------  -----  \n",
      " 0   data             6637 non-null   object \n",
      " 1   abertura         6637 non-null   float64\n",
      " 2   alta             6637 non-null   float64\n",
      " 3   baixa            6637 non-null   float64\n",
      " 4   fechamento       6637 non-null   float64\n",
      " 5   var_abertura     6637 non-null   float64\n",
      " 6   media_movel_180  6637 non-null   float64\n",
      " 7   media_movel_240  6637 non-null   float64\n",
      " 8   media_movel_360  6637 non-null   float64\n",
      " 9   media_movel_480  6637 non-null   float64\n",
      "dtypes: float64(9), object(1)\n",
      "memory usage: 518.6+ KB\n"
     ]
    }
   ],
   "source": [
    "bvsp.info()"
   ]
  },
  {
   "cell_type": "markdown",
   "id": "e5e25665",
   "metadata": {},
   "source": [
    "### Transformar dados"
   ]
  },
  {
   "cell_type": "code",
   "execution_count": 19,
   "id": "50868aca",
   "metadata": {},
   "outputs": [
    {
     "name": "stdout",
     "output_type": "stream",
     "text": [
      "<class 'pandas.core.frame.DataFrame'>\n",
      "RangeIndex: 6637 entries, 0 to 6636\n",
      "Data columns (total 10 columns):\n",
      " #   Column           Non-Null Count  Dtype         \n",
      "---  ------           --------------  -----         \n",
      " 0   data             6637 non-null   datetime64[ns]\n",
      " 1   abertura         6637 non-null   float64       \n",
      " 2   alta             6637 non-null   float64       \n",
      " 3   baixa            6637 non-null   float64       \n",
      " 4   fechamento       6637 non-null   float64       \n",
      " 5   var_abertura     6637 non-null   float64       \n",
      " 6   media_movel_180  6637 non-null   float64       \n",
      " 7   media_movel_240  6637 non-null   float64       \n",
      " 8   media_movel_360  6637 non-null   float64       \n",
      " 9   media_movel_480  6637 non-null   float64       \n",
      "dtypes: datetime64[ns](1), float64(9)\n",
      "memory usage: 518.6 KB\n"
     ]
    }
   ],
   "source": [
    "#transforma variável data em datetime\n",
    "bvsp['data'] = pd.to_datetime(bvsp['data'])\n",
    "bvsp.info()"
   ]
  },
  {
   "cell_type": "code",
   "execution_count": 21,
   "id": "7524c856-8052-4ae0-85d1-c37d14b3682b",
   "metadata": {},
   "outputs": [
    {
     "data": {
      "text/plain": [
       "Index(['data', 'abertura', 'alta', 'baixa', 'fechamento'], dtype='object')"
      ]
     },
     "execution_count": 21,
     "metadata": {},
     "output_type": "execute_result"
    }
   ],
   "source": [
    "#excluí colunas de lag, diff e estatística móvel\n",
    "bvsp.drop(columns=['var_abertura', 'media_movel_180', 'media_movel_240', 'media_movel_360', 'media_movel_480'], inplace=True)\n",
    "bvsp.columns"
   ]
  },
  {
   "cell_type": "markdown",
   "id": "990b10f6-c8db-4534-94de-53423fb6398d",
   "metadata": {},
   "source": [
    "### Funções"
   ]
  },
  {
   "cell_type": "code",
   "execution_count": 92,
   "id": "6e3ccc12-e502-4dc6-9514-c2f7ca0107a5",
   "metadata": {
    "tags": []
   },
   "outputs": [],
   "source": [
    "# gerar os valoes aleatórios\n",
    "def baseline_aleatorio(df, coluna_input, nome_coluna_output, var_max, var_min, seed=False):\n",
    "    if seed == True:\n",
    "        SEED = seed\n",
    "        np.random.seed(SEED)\n",
    "    else:\n",
    "        pass\n",
    "    lista_tmp = []\n",
    "    for valor in df[coluna_input].values:\n",
    "        num_aleatorio = np.random.randint(var_min, var_max)\n",
    "        variacao = valor * num_aleatorio / 100\n",
    "        previsao = valor + (variacao)\n",
    "        lista_tmp.append(previsao)\n",
    "    #cria nova coluna no dataframe\n",
    "    df[nome_coluna_output] = lista_tmp\n",
    "    return df"
   ]
  },
  {
   "cell_type": "markdown",
   "id": "5c34d861",
   "metadata": {},
   "source": [
    "## Baseline"
   ]
  },
  {
   "cell_type": "markdown",
   "id": "bdb1017f-c7e9-44ed-8ee4-73613eea1a5d",
   "metadata": {},
   "source": [
    "### Fechamento (-15% até 33%)"
   ]
  },
  {
   "cell_type": "code",
   "execution_count": 93,
   "id": "7bd73507-fab7-4692-be46-411fd2508421",
   "metadata": {},
   "outputs": [
    {
     "data": {
      "text/html": [
       "<div>\n",
       "<style scoped>\n",
       "    .dataframe tbody tr th:only-of-type {\n",
       "        vertical-align: middle;\n",
       "    }\n",
       "\n",
       "    .dataframe tbody tr th {\n",
       "        vertical-align: top;\n",
       "    }\n",
       "\n",
       "    .dataframe thead th {\n",
       "        text-align: right;\n",
       "    }\n",
       "</style>\n",
       "<table border=\"1\" class=\"dataframe\">\n",
       "  <thead>\n",
       "    <tr style=\"text-align: right;\">\n",
       "      <th></th>\n",
       "      <th>data</th>\n",
       "      <th>abertura</th>\n",
       "      <th>alta</th>\n",
       "      <th>baixa</th>\n",
       "      <th>fechamento</th>\n",
       "      <th>baseline_fechamento</th>\n",
       "      <th>baseline_alta</th>\n",
       "      <th>baseline_baixa</th>\n",
       "    </tr>\n",
       "  </thead>\n",
       "  <tbody>\n",
       "    <tr>\n",
       "      <th>0</th>\n",
       "      <td>1995-02-27</td>\n",
       "      <td>3217.399902</td>\n",
       "      <td>3345.800049</td>\n",
       "      <td>3184.399902</td>\n",
       "      <td>3270.899902</td>\n",
       "      <td>3336.317900</td>\n",
       "      <td>3446.174050</td>\n",
       "      <td>2961.491909</td>\n",
       "    </tr>\n",
       "    <tr>\n",
       "      <th>1</th>\n",
       "      <td>1995-02-28</td>\n",
       "      <td>3217.399902</td>\n",
       "      <td>3345.800049</td>\n",
       "      <td>3184.399902</td>\n",
       "      <td>3270.899902</td>\n",
       "      <td>3826.952885</td>\n",
       "      <td>4382.998064</td>\n",
       "      <td>2643.051919</td>\n",
       "    </tr>\n",
       "    <tr>\n",
       "      <th>2</th>\n",
       "      <td>1995-03-01</td>\n",
       "      <td>3217.399902</td>\n",
       "      <td>3345.800049</td>\n",
       "      <td>3184.399902</td>\n",
       "      <td>3270.899902</td>\n",
       "      <td>3597.989892</td>\n",
       "      <td>3580.006052</td>\n",
       "      <td>2993.335908</td>\n",
       "    </tr>\n",
       "    <tr>\n",
       "      <th>3</th>\n",
       "      <td>1995-03-02</td>\n",
       "      <td>3270.899902</td>\n",
       "      <td>3270.899902</td>\n",
       "      <td>2970.199951</td>\n",
       "      <td>2989.100098</td>\n",
       "      <td>2959.209097</td>\n",
       "      <td>3597.989892</td>\n",
       "      <td>2584.073957</td>\n",
       "    </tr>\n",
       "    <tr>\n",
       "      <th>4</th>\n",
       "      <td>1995-03-03</td>\n",
       "      <td>2989.100098</td>\n",
       "      <td>3018.100098</td>\n",
       "      <td>2841.699951</td>\n",
       "      <td>2988.000000</td>\n",
       "      <td>2778.840000</td>\n",
       "      <td>3953.711128</td>\n",
       "      <td>2557.529956</td>\n",
       "    </tr>\n",
       "    <tr>\n",
       "      <th>...</th>\n",
       "      <td>...</td>\n",
       "      <td>...</td>\n",
       "      <td>...</td>\n",
       "      <td>...</td>\n",
       "      <td>...</td>\n",
       "      <td>...</td>\n",
       "      <td>...</td>\n",
       "      <td>...</td>\n",
       "    </tr>\n",
       "    <tr>\n",
       "      <th>6632</th>\n",
       "      <td>2021-05-10</td>\n",
       "      <td>122038.000000</td>\n",
       "      <td>122772.000000</td>\n",
       "      <td>121795.000000</td>\n",
       "      <td>121909.000000</td>\n",
       "      <td>108499.010000</td>\n",
       "      <td>160831.320000</td>\n",
       "      <td>103525.750000</td>\n",
       "    </tr>\n",
       "    <tr>\n",
       "      <th>6633</th>\n",
       "      <td>2021-05-11</td>\n",
       "      <td>121904.000000</td>\n",
       "      <td>122964.000000</td>\n",
       "      <td>120145.000000</td>\n",
       "      <td>122964.000000</td>\n",
       "      <td>118045.440000</td>\n",
       "      <td>162312.480000</td>\n",
       "      <td>103324.700000</td>\n",
       "    </tr>\n",
       "    <tr>\n",
       "      <th>6634</th>\n",
       "      <td>2021-05-12</td>\n",
       "      <td>122964.000000</td>\n",
       "      <td>122964.000000</td>\n",
       "      <td>119458.000000</td>\n",
       "      <td>119710.000000</td>\n",
       "      <td>158017.200000</td>\n",
       "      <td>131571.480000</td>\n",
       "      <td>107512.200000</td>\n",
       "    </tr>\n",
       "    <tr>\n",
       "      <th>6635</th>\n",
       "      <td>2021-05-13</td>\n",
       "      <td>119711.000000</td>\n",
       "      <td>121426.000000</td>\n",
       "      <td>119711.000000</td>\n",
       "      <td>120706.000000</td>\n",
       "      <td>123120.120000</td>\n",
       "      <td>127497.300000</td>\n",
       "      <td>113725.450000</td>\n",
       "    </tr>\n",
       "    <tr>\n",
       "      <th>6636</th>\n",
       "      <td>2021-05-14</td>\n",
       "      <td>120719.000000</td>\n",
       "      <td>122195.000000</td>\n",
       "      <td>120719.000000</td>\n",
       "      <td>121881.000000</td>\n",
       "      <td>129193.860000</td>\n",
       "      <td>145412.050000</td>\n",
       "      <td>109854.290000</td>\n",
       "    </tr>\n",
       "  </tbody>\n",
       "</table>\n",
       "<p>6637 rows × 8 columns</p>\n",
       "</div>"
      ],
      "text/plain": [
       "           data       abertura           alta          baixa     fechamento  \\\n",
       "0    1995-02-27    3217.399902    3345.800049    3184.399902    3270.899902   \n",
       "1    1995-02-28    3217.399902    3345.800049    3184.399902    3270.899902   \n",
       "2    1995-03-01    3217.399902    3345.800049    3184.399902    3270.899902   \n",
       "3    1995-03-02    3270.899902    3270.899902    2970.199951    2989.100098   \n",
       "4    1995-03-03    2989.100098    3018.100098    2841.699951    2988.000000   \n",
       "...         ...            ...            ...            ...            ...   \n",
       "6632 2021-05-10  122038.000000  122772.000000  121795.000000  121909.000000   \n",
       "6633 2021-05-11  121904.000000  122964.000000  120145.000000  122964.000000   \n",
       "6634 2021-05-12  122964.000000  122964.000000  119458.000000  119710.000000   \n",
       "6635 2021-05-13  119711.000000  121426.000000  119711.000000  120706.000000   \n",
       "6636 2021-05-14  120719.000000  122195.000000  120719.000000  121881.000000   \n",
       "\n",
       "      baseline_fechamento  baseline_alta  baseline_baixa  \n",
       "0             3336.317900    3446.174050     2961.491909  \n",
       "1             3826.952885    4382.998064     2643.051919  \n",
       "2             3597.989892    3580.006052     2993.335908  \n",
       "3             2959.209097    3597.989892     2584.073957  \n",
       "4             2778.840000    3953.711128     2557.529956  \n",
       "...                   ...            ...             ...  \n",
       "6632        108499.010000  160831.320000   103525.750000  \n",
       "6633        118045.440000  162312.480000   103324.700000  \n",
       "6634        158017.200000  131571.480000   107512.200000  \n",
       "6635        123120.120000  127497.300000   113725.450000  \n",
       "6636        129193.860000  145412.050000   109854.290000  \n",
       "\n",
       "[6637 rows x 8 columns]"
      ]
     },
     "execution_count": 93,
     "metadata": {},
     "output_type": "execute_result"
    }
   ],
   "source": [
    "baseline_aleatorio(df=bvsp, coluna_input='fechamento', nome_coluna_output='baseline_fechamento', var_max=33, var_min=-15, seed=666)"
   ]
  },
  {
   "cell_type": "markdown",
   "id": "e3988d7d-4cf9-49b8-b7b1-b931bda43239",
   "metadata": {},
   "source": [
    "### Alta (1% a 34%)"
   ]
  },
  {
   "cell_type": "code",
   "execution_count": 94,
   "id": "fe44626b-42e4-440d-a73e-251fd3c9031d",
   "metadata": {},
   "outputs": [
    {
     "data": {
      "text/html": [
       "<div>\n",
       "<style scoped>\n",
       "    .dataframe tbody tr th:only-of-type {\n",
       "        vertical-align: middle;\n",
       "    }\n",
       "\n",
       "    .dataframe tbody tr th {\n",
       "        vertical-align: top;\n",
       "    }\n",
       "\n",
       "    .dataframe thead th {\n",
       "        text-align: right;\n",
       "    }\n",
       "</style>\n",
       "<table border=\"1\" class=\"dataframe\">\n",
       "  <thead>\n",
       "    <tr style=\"text-align: right;\">\n",
       "      <th></th>\n",
       "      <th>data</th>\n",
       "      <th>abertura</th>\n",
       "      <th>alta</th>\n",
       "      <th>baixa</th>\n",
       "      <th>fechamento</th>\n",
       "      <th>baseline_fechamento</th>\n",
       "      <th>baseline_alta</th>\n",
       "      <th>baseline_baixa</th>\n",
       "    </tr>\n",
       "  </thead>\n",
       "  <tbody>\n",
       "    <tr>\n",
       "      <th>0</th>\n",
       "      <td>1995-02-27</td>\n",
       "      <td>3217.399902</td>\n",
       "      <td>3345.800049</td>\n",
       "      <td>3184.399902</td>\n",
       "      <td>3270.899902</td>\n",
       "      <td>3336.317900</td>\n",
       "      <td>3479.632051</td>\n",
       "      <td>2961.491909</td>\n",
       "    </tr>\n",
       "    <tr>\n",
       "      <th>1</th>\n",
       "      <td>1995-02-28</td>\n",
       "      <td>3217.399902</td>\n",
       "      <td>3345.800049</td>\n",
       "      <td>3184.399902</td>\n",
       "      <td>3270.899902</td>\n",
       "      <td>3826.952885</td>\n",
       "      <td>3513.090051</td>\n",
       "      <td>2643.051919</td>\n",
       "    </tr>\n",
       "    <tr>\n",
       "      <th>2</th>\n",
       "      <td>1995-03-01</td>\n",
       "      <td>3217.399902</td>\n",
       "      <td>3345.800049</td>\n",
       "      <td>3184.399902</td>\n",
       "      <td>3270.899902</td>\n",
       "      <td>3597.989892</td>\n",
       "      <td>4182.250061</td>\n",
       "      <td>2993.335908</td>\n",
       "    </tr>\n",
       "    <tr>\n",
       "      <th>3</th>\n",
       "      <td>1995-03-02</td>\n",
       "      <td>3270.899902</td>\n",
       "      <td>3270.899902</td>\n",
       "      <td>2970.199951</td>\n",
       "      <td>2989.100098</td>\n",
       "      <td>2959.209097</td>\n",
       "      <td>3499.862895</td>\n",
       "      <td>2584.073957</td>\n",
       "    </tr>\n",
       "    <tr>\n",
       "      <th>4</th>\n",
       "      <td>1995-03-03</td>\n",
       "      <td>2989.100098</td>\n",
       "      <td>3018.100098</td>\n",
       "      <td>2841.699951</td>\n",
       "      <td>2988.000000</td>\n",
       "      <td>2778.840000</td>\n",
       "      <td>3138.824102</td>\n",
       "      <td>2557.529956</td>\n",
       "    </tr>\n",
       "    <tr>\n",
       "      <th>...</th>\n",
       "      <td>...</td>\n",
       "      <td>...</td>\n",
       "      <td>...</td>\n",
       "      <td>...</td>\n",
       "      <td>...</td>\n",
       "      <td>...</td>\n",
       "      <td>...</td>\n",
       "      <td>...</td>\n",
       "    </tr>\n",
       "    <tr>\n",
       "      <th>6632</th>\n",
       "      <td>2021-05-10</td>\n",
       "      <td>122038.000000</td>\n",
       "      <td>122772.000000</td>\n",
       "      <td>121795.000000</td>\n",
       "      <td>121909.000000</td>\n",
       "      <td>108499.010000</td>\n",
       "      <td>153465.000000</td>\n",
       "      <td>103525.750000</td>\n",
       "    </tr>\n",
       "    <tr>\n",
       "      <th>6633</th>\n",
       "      <td>2021-05-11</td>\n",
       "      <td>121904.000000</td>\n",
       "      <td>122964.000000</td>\n",
       "      <td>120145.000000</td>\n",
       "      <td>122964.000000</td>\n",
       "      <td>118045.440000</td>\n",
       "      <td>127882.560000</td>\n",
       "      <td>103324.700000</td>\n",
       "    </tr>\n",
       "    <tr>\n",
       "      <th>6634</th>\n",
       "      <td>2021-05-12</td>\n",
       "      <td>122964.000000</td>\n",
       "      <td>122964.000000</td>\n",
       "      <td>119458.000000</td>\n",
       "      <td>119710.000000</td>\n",
       "      <td>158017.200000</td>\n",
       "      <td>132801.120000</td>\n",
       "      <td>107512.200000</td>\n",
       "    </tr>\n",
       "    <tr>\n",
       "      <th>6635</th>\n",
       "      <td>2021-05-13</td>\n",
       "      <td>119711.000000</td>\n",
       "      <td>121426.000000</td>\n",
       "      <td>119711.000000</td>\n",
       "      <td>120706.000000</td>\n",
       "      <td>123120.120000</td>\n",
       "      <td>144496.940000</td>\n",
       "      <td>113725.450000</td>\n",
       "    </tr>\n",
       "    <tr>\n",
       "      <th>6636</th>\n",
       "      <td>2021-05-14</td>\n",
       "      <td>120719.000000</td>\n",
       "      <td>122195.000000</td>\n",
       "      <td>120719.000000</td>\n",
       "      <td>121881.000000</td>\n",
       "      <td>129193.860000</td>\n",
       "      <td>156409.600000</td>\n",
       "      <td>109854.290000</td>\n",
       "    </tr>\n",
       "  </tbody>\n",
       "</table>\n",
       "<p>6637 rows × 8 columns</p>\n",
       "</div>"
      ],
      "text/plain": [
       "           data       abertura           alta          baixa     fechamento  \\\n",
       "0    1995-02-27    3217.399902    3345.800049    3184.399902    3270.899902   \n",
       "1    1995-02-28    3217.399902    3345.800049    3184.399902    3270.899902   \n",
       "2    1995-03-01    3217.399902    3345.800049    3184.399902    3270.899902   \n",
       "3    1995-03-02    3270.899902    3270.899902    2970.199951    2989.100098   \n",
       "4    1995-03-03    2989.100098    3018.100098    2841.699951    2988.000000   \n",
       "...         ...            ...            ...            ...            ...   \n",
       "6632 2021-05-10  122038.000000  122772.000000  121795.000000  121909.000000   \n",
       "6633 2021-05-11  121904.000000  122964.000000  120145.000000  122964.000000   \n",
       "6634 2021-05-12  122964.000000  122964.000000  119458.000000  119710.000000   \n",
       "6635 2021-05-13  119711.000000  121426.000000  119711.000000  120706.000000   \n",
       "6636 2021-05-14  120719.000000  122195.000000  120719.000000  121881.000000   \n",
       "\n",
       "      baseline_fechamento  baseline_alta  baseline_baixa  \n",
       "0             3336.317900    3479.632051     2961.491909  \n",
       "1             3826.952885    3513.090051     2643.051919  \n",
       "2             3597.989892    4182.250061     2993.335908  \n",
       "3             2959.209097    3499.862895     2584.073957  \n",
       "4             2778.840000    3138.824102     2557.529956  \n",
       "...                   ...            ...             ...  \n",
       "6632        108499.010000  153465.000000   103525.750000  \n",
       "6633        118045.440000  127882.560000   103324.700000  \n",
       "6634        158017.200000  132801.120000   107512.200000  \n",
       "6635        123120.120000  144496.940000   113725.450000  \n",
       "6636        129193.860000  156409.600000   109854.290000  \n",
       "\n",
       "[6637 rows x 8 columns]"
      ]
     },
     "execution_count": 94,
     "metadata": {},
     "output_type": "execute_result"
    }
   ],
   "source": [
    "baseline_aleatorio(df=bvsp, coluna_input='alta', nome_coluna_output='baseline_alta', var_max=34, var_min=1, seed=333)"
   ]
  },
  {
   "cell_type": "markdown",
   "id": "bde809af-5fc6-4f83-af93-3f3303e65e36",
   "metadata": {},
   "source": [
    "### Baixa (-19% a -1%)"
   ]
  },
  {
   "cell_type": "code",
   "execution_count": 95,
   "id": "c00809fa-99a2-4216-b2f8-686a75b85a5f",
   "metadata": {},
   "outputs": [
    {
     "data": {
      "text/html": [
       "<div>\n",
       "<style scoped>\n",
       "    .dataframe tbody tr th:only-of-type {\n",
       "        vertical-align: middle;\n",
       "    }\n",
       "\n",
       "    .dataframe tbody tr th {\n",
       "        vertical-align: top;\n",
       "    }\n",
       "\n",
       "    .dataframe thead th {\n",
       "        text-align: right;\n",
       "    }\n",
       "</style>\n",
       "<table border=\"1\" class=\"dataframe\">\n",
       "  <thead>\n",
       "    <tr style=\"text-align: right;\">\n",
       "      <th></th>\n",
       "      <th>data</th>\n",
       "      <th>abertura</th>\n",
       "      <th>alta</th>\n",
       "      <th>baixa</th>\n",
       "      <th>fechamento</th>\n",
       "      <th>baseline_fechamento</th>\n",
       "      <th>baseline_alta</th>\n",
       "      <th>baseline_baixa</th>\n",
       "    </tr>\n",
       "  </thead>\n",
       "  <tbody>\n",
       "    <tr>\n",
       "      <th>0</th>\n",
       "      <td>1995-02-27</td>\n",
       "      <td>3217.399902</td>\n",
       "      <td>3345.800049</td>\n",
       "      <td>3184.399902</td>\n",
       "      <td>3270.899902</td>\n",
       "      <td>3336.317900</td>\n",
       "      <td>3479.632051</td>\n",
       "      <td>3088.867905</td>\n",
       "    </tr>\n",
       "    <tr>\n",
       "      <th>1</th>\n",
       "      <td>1995-02-28</td>\n",
       "      <td>3217.399902</td>\n",
       "      <td>3345.800049</td>\n",
       "      <td>3184.399902</td>\n",
       "      <td>3270.899902</td>\n",
       "      <td>3826.952885</td>\n",
       "      <td>3513.090051</td>\n",
       "      <td>2674.895918</td>\n",
       "    </tr>\n",
       "    <tr>\n",
       "      <th>2</th>\n",
       "      <td>1995-03-01</td>\n",
       "      <td>3217.399902</td>\n",
       "      <td>3345.800049</td>\n",
       "      <td>3184.399902</td>\n",
       "      <td>3270.899902</td>\n",
       "      <td>3597.989892</td>\n",
       "      <td>4182.250061</td>\n",
       "      <td>3120.711904</td>\n",
       "    </tr>\n",
       "    <tr>\n",
       "      <th>3</th>\n",
       "      <td>1995-03-02</td>\n",
       "      <td>3270.899902</td>\n",
       "      <td>3270.899902</td>\n",
       "      <td>2970.199951</td>\n",
       "      <td>2989.100098</td>\n",
       "      <td>2959.209097</td>\n",
       "      <td>3499.862895</td>\n",
       "      <td>2702.881955</td>\n",
       "    </tr>\n",
       "    <tr>\n",
       "      <th>4</th>\n",
       "      <td>1995-03-03</td>\n",
       "      <td>2989.100098</td>\n",
       "      <td>3018.100098</td>\n",
       "      <td>2841.699951</td>\n",
       "      <td>2988.000000</td>\n",
       "      <td>2778.840000</td>\n",
       "      <td>3138.824102</td>\n",
       "      <td>2472.278957</td>\n",
       "    </tr>\n",
       "    <tr>\n",
       "      <th>...</th>\n",
       "      <td>...</td>\n",
       "      <td>...</td>\n",
       "      <td>...</td>\n",
       "      <td>...</td>\n",
       "      <td>...</td>\n",
       "      <td>...</td>\n",
       "      <td>...</td>\n",
       "      <td>...</td>\n",
       "    </tr>\n",
       "    <tr>\n",
       "      <th>6632</th>\n",
       "      <td>2021-05-10</td>\n",
       "      <td>122038.000000</td>\n",
       "      <td>122772.000000</td>\n",
       "      <td>121795.000000</td>\n",
       "      <td>121909.000000</td>\n",
       "      <td>108499.010000</td>\n",
       "      <td>153465.000000</td>\n",
       "      <td>105961.650000</td>\n",
       "    </tr>\n",
       "    <tr>\n",
       "      <th>6633</th>\n",
       "      <td>2021-05-11</td>\n",
       "      <td>121904.000000</td>\n",
       "      <td>122964.000000</td>\n",
       "      <td>120145.000000</td>\n",
       "      <td>122964.000000</td>\n",
       "      <td>118045.440000</td>\n",
       "      <td>127882.560000</td>\n",
       "      <td>110533.400000</td>\n",
       "    </tr>\n",
       "    <tr>\n",
       "      <th>6634</th>\n",
       "      <td>2021-05-12</td>\n",
       "      <td>122964.000000</td>\n",
       "      <td>122964.000000</td>\n",
       "      <td>119458.000000</td>\n",
       "      <td>119710.000000</td>\n",
       "      <td>158017.200000</td>\n",
       "      <td>132801.120000</td>\n",
       "      <td>117068.840000</td>\n",
       "    </tr>\n",
       "    <tr>\n",
       "      <th>6635</th>\n",
       "      <td>2021-05-13</td>\n",
       "      <td>119711.000000</td>\n",
       "      <td>121426.000000</td>\n",
       "      <td>119711.000000</td>\n",
       "      <td>120706.000000</td>\n",
       "      <td>123120.120000</td>\n",
       "      <td>144496.940000</td>\n",
       "      <td>114922.560000</td>\n",
       "    </tr>\n",
       "    <tr>\n",
       "      <th>6636</th>\n",
       "      <td>2021-05-14</td>\n",
       "      <td>120719.000000</td>\n",
       "      <td>122195.000000</td>\n",
       "      <td>120719.000000</td>\n",
       "      <td>121881.000000</td>\n",
       "      <td>129193.860000</td>\n",
       "      <td>156409.600000</td>\n",
       "      <td>114683.050000</td>\n",
       "    </tr>\n",
       "  </tbody>\n",
       "</table>\n",
       "<p>6637 rows × 8 columns</p>\n",
       "</div>"
      ],
      "text/plain": [
       "           data       abertura           alta          baixa     fechamento  \\\n",
       "0    1995-02-27    3217.399902    3345.800049    3184.399902    3270.899902   \n",
       "1    1995-02-28    3217.399902    3345.800049    3184.399902    3270.899902   \n",
       "2    1995-03-01    3217.399902    3345.800049    3184.399902    3270.899902   \n",
       "3    1995-03-02    3270.899902    3270.899902    2970.199951    2989.100098   \n",
       "4    1995-03-03    2989.100098    3018.100098    2841.699951    2988.000000   \n",
       "...         ...            ...            ...            ...            ...   \n",
       "6632 2021-05-10  122038.000000  122772.000000  121795.000000  121909.000000   \n",
       "6633 2021-05-11  121904.000000  122964.000000  120145.000000  122964.000000   \n",
       "6634 2021-05-12  122964.000000  122964.000000  119458.000000  119710.000000   \n",
       "6635 2021-05-13  119711.000000  121426.000000  119711.000000  120706.000000   \n",
       "6636 2021-05-14  120719.000000  122195.000000  120719.000000  121881.000000   \n",
       "\n",
       "      baseline_fechamento  baseline_alta  baseline_baixa  \n",
       "0             3336.317900    3479.632051     3088.867905  \n",
       "1             3826.952885    3513.090051     2674.895918  \n",
       "2             3597.989892    4182.250061     3120.711904  \n",
       "3             2959.209097    3499.862895     2702.881955  \n",
       "4             2778.840000    3138.824102     2472.278957  \n",
       "...                   ...            ...             ...  \n",
       "6632        108499.010000  153465.000000   105961.650000  \n",
       "6633        118045.440000  127882.560000   110533.400000  \n",
       "6634        158017.200000  132801.120000   117068.840000  \n",
       "6635        123120.120000  144496.940000   114922.560000  \n",
       "6636        129193.860000  156409.600000   114683.050000  \n",
       "\n",
       "[6637 rows x 8 columns]"
      ]
     },
     "execution_count": 95,
     "metadata": {},
     "output_type": "execute_result"
    }
   ],
   "source": [
    "baseline_aleatorio(df=bvsp, coluna_input='baixa', nome_coluna_output='baseline_baixa', var_max=-1, var_min=-19, seed=999)"
   ]
  },
  {
   "cell_type": "markdown",
   "id": "f65bab6e-c268-42f1-9c13-411f783b1325",
   "metadata": {},
   "source": [
    "### Gráfico Baseline"
   ]
  },
  {
   "cell_type": "markdown",
   "id": "89ac5ad0-2ff3-40cb-ab91-6211544b75b1",
   "metadata": {},
   "source": [
    "#### Fechamento"
   ]
  },
  {
   "cell_type": "code",
   "execution_count": 110,
   "id": "85208da6",
   "metadata": {},
   "outputs": [
    {
     "data": {
      "image/png": "[encoded data removed]",
      "text/plain": [
       "<Figure size 1080x288 with 1 Axes>"
      ]
     },
     "metadata": {},
     "output_type": "display_data"
    }
   ],
   "source": [
    "g4 = sns.lineplot(x=bvsp['data'], y=bvsp['baseline_fechamento'], color='lightblue', label='Baseline')\n",
    "g4 = sns.lineplot(x=bvsp['data'], y=bvsp['fechamento'], color='red')\n",
    "configuration(g4, title='Baseline para fechamento')"
   ]
  },
  {
   "cell_type": "markdown",
   "id": "9aae640b-e0dd-442e-b36c-0e4c3c7b40be",
   "metadata": {},
   "source": [
    "#### Baixa"
   ]
  },
  {
   "cell_type": "code",
   "execution_count": 111,
   "id": "c7d73655-4169-4a70-90fb-2ee154f172dd",
   "metadata": {},
   "outputs": [
    {
     "data": {
      "image/png": "[encoded data removed]",
      "text/plain": [
       "<Figure size 1080x288 with 1 Axes>"
      ]
     },
     "metadata": {},
     "output_type": "display_data"
    }
   ],
   "source": [
    "g4 = sns.lineplot(x=bvsp['data'], y=bvsp['baseline_baixa'], color='lightblue', label='Baseline')\n",
    "g4 = sns.lineplot(x=bvsp['data'], y=bvsp['baixa'], color='red')\n",
    "configuration(g4, title='Baseline para baixa')"
   ]
  },
  {
   "cell_type": "markdown",
   "id": "17252c92-2997-49a6-8af6-c814ef8313a4",
   "metadata": {},
   "source": [
    "#### Alta"
   ]
  },
  {
   "cell_type": "code",
   "execution_count": 112,
   "id": "11f4fd72-885f-4031-be5f-33efd8c73675",
   "metadata": {},
   "outputs": [
    {
     "data": {
      "image/png": "[encoded data removed]",
      "text/plain": [
       "<Figure size 1080x288 with 1 Axes>"
      ]
     },
     "metadata": {},
     "output_type": "display_data"
    }
   ],
   "source": [
    "g4 = sns.lineplot(x=bvsp['data'], y=bvsp['baseline_alta'], color='lightblue', label='Baseline')\n",
    "g4 = sns.lineplot(x=bvsp['data'], y=bvsp['alta'], color='red')\n",
    "configuration(g4, title='Baseline para alta')"
   ]
  },
  {
   "cell_type": "markdown",
   "id": "8b72ccf2",
   "metadata": {},
   "source": [
    "## Scores"
   ]
  },
  {
   "cell_type": "markdown",
   "id": "b38577dd-1f6a-43e5-9002-77380d2c34a1",
   "metadata": {},
   "source": [
    "### Base validação\n",
    "Utilizarei o segundo semestre de 2020 até o final do período da base como dados de validação"
   ]
  },
  {
   "cell_type": "code",
   "execution_count": 115,
   "id": "e3785120-f581-4dd5-ba7b-bde1d524fe08",
   "metadata": {},
   "outputs": [
    {
     "data": {
      "text/html": [
       "<div>\n",
       "<style scoped>\n",
       "    .dataframe tbody tr th:only-of-type {\n",
       "        vertical-align: middle;\n",
       "    }\n",
       "\n",
       "    .dataframe tbody tr th {\n",
       "        vertical-align: top;\n",
       "    }\n",
       "\n",
       "    .dataframe thead th {\n",
       "        text-align: right;\n",
       "    }\n",
       "</style>\n",
       "<table border=\"1\" class=\"dataframe\">\n",
       "  <thead>\n",
       "    <tr style=\"text-align: right;\">\n",
       "      <th></th>\n",
       "      <th>data</th>\n",
       "      <th>abertura</th>\n",
       "      <th>alta</th>\n",
       "      <th>baixa</th>\n",
       "      <th>fechamento</th>\n",
       "      <th>baseline_fechamento</th>\n",
       "      <th>baseline_alta</th>\n",
       "      <th>baseline_baixa</th>\n",
       "    </tr>\n",
       "  </thead>\n",
       "  <tbody>\n",
       "    <tr>\n",
       "      <th>6401</th>\n",
       "      <td>2020-06-01</td>\n",
       "      <td>87395.0</td>\n",
       "      <td>89019.0</td>\n",
       "      <td>86837.0</td>\n",
       "      <td>88620.0</td>\n",
       "      <td>109888.80</td>\n",
       "      <td>106822.80</td>\n",
       "      <td>79890.04</td>\n",
       "    </tr>\n",
       "    <tr>\n",
       "      <th>6402</th>\n",
       "      <td>2020-06-02</td>\n",
       "      <td>88622.0</td>\n",
       "      <td>91046.0</td>\n",
       "      <td>88622.0</td>\n",
       "      <td>91046.0</td>\n",
       "      <td>101061.06</td>\n",
       "      <td>105613.36</td>\n",
       "      <td>73556.26</td>\n",
       "    </tr>\n",
       "    <tr>\n",
       "      <th>6403</th>\n",
       "      <td>2020-06-03</td>\n",
       "      <td>91048.0</td>\n",
       "      <td>93710.0</td>\n",
       "      <td>91048.0</td>\n",
       "      <td>93002.0</td>\n",
       "      <td>89281.92</td>\n",
       "      <td>116200.40</td>\n",
       "      <td>81032.72</td>\n",
       "    </tr>\n",
       "    <tr>\n",
       "      <th>6404</th>\n",
       "      <td>2020-06-04</td>\n",
       "      <td>92993.0</td>\n",
       "      <td>94132.0</td>\n",
       "      <td>92221.0</td>\n",
       "      <td>93829.0</td>\n",
       "      <td>102273.61</td>\n",
       "      <td>95073.32</td>\n",
       "      <td>81154.48</td>\n",
       "    </tr>\n",
       "    <tr>\n",
       "      <th>6405</th>\n",
       "      <td>2020-06-05</td>\n",
       "      <td>93839.0</td>\n",
       "      <td>97356.0</td>\n",
       "      <td>93839.0</td>\n",
       "      <td>94637.0</td>\n",
       "      <td>99368.85</td>\n",
       "      <td>122668.56</td>\n",
       "      <td>87270.27</td>\n",
       "    </tr>\n",
       "    <tr>\n",
       "      <th>...</th>\n",
       "      <td>...</td>\n",
       "      <td>...</td>\n",
       "      <td>...</td>\n",
       "      <td>...</td>\n",
       "      <td>...</td>\n",
       "      <td>...</td>\n",
       "      <td>...</td>\n",
       "      <td>...</td>\n",
       "    </tr>\n",
       "    <tr>\n",
       "      <th>6632</th>\n",
       "      <td>2021-05-10</td>\n",
       "      <td>122038.0</td>\n",
       "      <td>122772.0</td>\n",
       "      <td>121795.0</td>\n",
       "      <td>121909.0</td>\n",
       "      <td>108499.01</td>\n",
       "      <td>153465.00</td>\n",
       "      <td>105961.65</td>\n",
       "    </tr>\n",
       "    <tr>\n",
       "      <th>6633</th>\n",
       "      <td>2021-05-11</td>\n",
       "      <td>121904.0</td>\n",
       "      <td>122964.0</td>\n",
       "      <td>120145.0</td>\n",
       "      <td>122964.0</td>\n",
       "      <td>118045.44</td>\n",
       "      <td>127882.56</td>\n",
       "      <td>110533.40</td>\n",
       "    </tr>\n",
       "    <tr>\n",
       "      <th>6634</th>\n",
       "      <td>2021-05-12</td>\n",
       "      <td>122964.0</td>\n",
       "      <td>122964.0</td>\n",
       "      <td>119458.0</td>\n",
       "      <td>119710.0</td>\n",
       "      <td>158017.20</td>\n",
       "      <td>132801.12</td>\n",
       "      <td>117068.84</td>\n",
       "    </tr>\n",
       "    <tr>\n",
       "      <th>6635</th>\n",
       "      <td>2021-05-13</td>\n",
       "      <td>119711.0</td>\n",
       "      <td>121426.0</td>\n",
       "      <td>119711.0</td>\n",
       "      <td>120706.0</td>\n",
       "      <td>123120.12</td>\n",
       "      <td>144496.94</td>\n",
       "      <td>114922.56</td>\n",
       "    </tr>\n",
       "    <tr>\n",
       "      <th>6636</th>\n",
       "      <td>2021-05-14</td>\n",
       "      <td>120719.0</td>\n",
       "      <td>122195.0</td>\n",
       "      <td>120719.0</td>\n",
       "      <td>121881.0</td>\n",
       "      <td>129193.86</td>\n",
       "      <td>156409.60</td>\n",
       "      <td>114683.05</td>\n",
       "    </tr>\n",
       "  </tbody>\n",
       "</table>\n",
       "<p>236 rows × 8 columns</p>\n",
       "</div>"
      ],
      "text/plain": [
       "           data  abertura      alta     baixa  fechamento  \\\n",
       "6401 2020-06-01   87395.0   89019.0   86837.0     88620.0   \n",
       "6402 2020-06-02   88622.0   91046.0   88622.0     91046.0   \n",
       "6403 2020-06-03   91048.0   93710.0   91048.0     93002.0   \n",
       "6404 2020-06-04   92993.0   94132.0   92221.0     93829.0   \n",
       "6405 2020-06-05   93839.0   97356.0   93839.0     94637.0   \n",
       "...         ...       ...       ...       ...         ...   \n",
       "6632 2021-05-10  122038.0  122772.0  121795.0    121909.0   \n",
       "6633 2021-05-11  121904.0  122964.0  120145.0    122964.0   \n",
       "6634 2021-05-12  122964.0  122964.0  119458.0    119710.0   \n",
       "6635 2021-05-13  119711.0  121426.0  119711.0    120706.0   \n",
       "6636 2021-05-14  120719.0  122195.0  120719.0    121881.0   \n",
       "\n",
       "      baseline_fechamento  baseline_alta  baseline_baixa  \n",
       "6401            109888.80      106822.80        79890.04  \n",
       "6402            101061.06      105613.36        73556.26  \n",
       "6403             89281.92      116200.40        81032.72  \n",
       "6404            102273.61       95073.32        81154.48  \n",
       "6405             99368.85      122668.56        87270.27  \n",
       "...                   ...            ...             ...  \n",
       "6632            108499.01      153465.00       105961.65  \n",
       "6633            118045.44      127882.56       110533.40  \n",
       "6634            158017.20      132801.12       117068.84  \n",
       "6635            123120.12      144496.94       114922.56  \n",
       "6636            129193.86      156409.60       114683.05  \n",
       "\n",
       "[236 rows x 8 columns]"
      ]
     },
     "execution_count": 115,
     "metadata": {},
     "output_type": "execute_result"
    }
   ],
   "source": [
    "base_validacao = bvsp.query('data >= \"2020-06-01\"')\n",
    "base_validacao"
   ]
  },
  {
   "cell_type": "markdown",
   "id": "be60ab69-5468-425f-a422-8bcd8304bfd2",
   "metadata": {},
   "source": [
    "#### Fechamento"
   ]
  },
  {
   "cell_type": "code",
   "execution_count": 116,
   "id": "e316676a-1dd2-445b-9f9f-a2e0885a64a5",
   "metadata": {},
   "outputs": [
    {
     "data": {
      "text/plain": [
       "-1.9432324461770238"
      ]
     },
     "execution_count": 116,
     "metadata": {},
     "output_type": "execute_result"
    }
   ],
   "source": [
    "y_fechamento = base_validacao['fechamento']\n",
    "y_fechamento_previsto = base_validacao['baseline_fechamento']\n",
    "r2_score(y_fechamento, y_fechamento_previsto)"
   ]
  },
  {
   "cell_type": "markdown",
   "id": "97f8c4b1-e664-43f5-a393-c5444aefaa57",
   "metadata": {},
   "source": [
    "### Baixa"
   ]
  },
  {
   "cell_type": "code",
   "execution_count": 117,
   "id": "0c280e6b-1480-44a1-9f9b-6ade650e02e7",
   "metadata": {},
   "outputs": [
    {
     "data": {
      "text/plain": [
       "-0.7542784259366757"
      ]
     },
     "execution_count": 117,
     "metadata": {},
     "output_type": "execute_result"
    }
   ],
   "source": [
    "y_baixa = base_validacao['baixa']\n",
    "y_baixa_previsto = base_validacao['baseline_baixa']\n",
    "r2_score(y_baixa, y_baixa_previsto)"
   ]
  },
  {
   "cell_type": "markdown",
   "id": "f07d899f-cbb4-4d13-9ea5-32c2adb47099",
   "metadata": {},
   "source": [
    "### Alta"
   ]
  },
  {
   "cell_type": "code",
   "execution_count": 118,
   "id": "5d6409db-91dc-42b4-8125-0d16ef1ed7af",
   "metadata": {},
   "outputs": [
    {
     "data": {
      "text/plain": [
       "-4.001182093032419"
      ]
     },
     "execution_count": 118,
     "metadata": {},
     "output_type": "execute_result"
    }
   ],
   "source": [
    "y_alta = base_validacao['alta']\n",
    "y_alta_previsto = base_validacao['baseline_alta']\n",
    "r2_score(y_alta, y_alta_previsto)"
   ]
  },
  {
   "cell_type": "markdown",
   "id": "b24a5cdb-af12-46e7-af74-d6410a3cae70",
   "metadata": {},
   "source": [
    "## Conclusão\n",
    "\n",
    "Utilizar as variações aleatórias do máximo e mínimo não criou um bom baseline\n",
    "\n",
    "**Irei utilizar uma das estatísticas móveis com período menor 5 ou 10 dias**"
   ]
  }
 ],
 "metadata": {
  "kernelspec": {
   "display_name": "Python 3",
   "language": "python",
   "name": "python3"
  },
  "language_info": {
   "codemirror_mode": {
    "name": "ipython",
    "version": 3
   },
   "file_extension": ".py",
   "mimetype": "text/x-python",
   "name": "python",
   "nbconvert_exporter": "python",
   "pygments_lexer": "ipython3",
   "version": "3.7.9"
  }
 },
 "nbformat": 4,
 "nbformat_minor": 5
}
