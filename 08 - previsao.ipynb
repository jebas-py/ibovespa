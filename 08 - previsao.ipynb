{
 "cells": [
  {
   "cell_type": "markdown",
   "id": "7416fcc0-74b1-4539-b90e-012407e0f3ee",
   "metadata": {},
   "source": [
    "# Libraries and versions"
   ]
  },
  {
   "cell_type": "code",
   "execution_count": 1,
   "id": "4057283d-12a2-402c-8225-07c35a0b6cda",
   "metadata": {},
   "outputs": [],
   "source": [
    "python_version = !python -V #version 3.8.8\n",
    "import pandas as pd #version 1.2.4\n",
    "import numpy as np #version 1.20.1\n",
    "import seaborn as sns #version 0.11.1\n",
    "import matplotlib as plt #version 3.3.4\n",
    "\n",
    "#Modelo\n",
    "from sklearn.metrics import mean_squared_log_error, r2_score\n",
    "from sklearn.linear_model import Ridge\n",
    "from sklearn.model_selection import TimeSeriesSplit\n",
    "\n",
    "#salvar modelo\n",
    "import pickle"
   ]
  },
  {
   "cell_type": "code",
   "execution_count": 2,
   "id": "f47f746c-50be-4b99-8deb-5913ef997fc2",
   "metadata": {},
   "outputs": [
    {
     "name": "stdout",
     "output_type": "stream",
     "text": [
      "Python version - 3.8.8\n",
      "Pandas version - 1.2.4\n",
      "Numpy version - 1.20.1\n",
      "Seaborn version - 0.11.1\n",
      "Matplotlib version - 3.3.4\n"
     ]
    }
   ],
   "source": [
    "print(f'Python version - {python_version[0][7:]}')\n",
    "print(f'Pandas version - {pd.__version__}')\n",
    "print(f'Numpy version - {np.__version__}')\n",
    "print(f'Seaborn version - {sns.__version__}')\n",
    "print(f'Matplotlib version - {plt.__version__}')"
   ]
  },
  {
   "cell_type": "markdown",
   "id": "3f74b6ad-782f-4eb9-8a2c-af8067553315",
   "metadata": {},
   "source": [
    "# Configurations"
   ]
  },
  {
   "cell_type": "markdown",
   "id": "cb3b1111-e6ec-4f9e-9051-efb80e90e9c4",
   "metadata": {},
   "source": [
    "### Warnings"
   ]
  },
  {
   "cell_type": "code",
   "execution_count": 3,
   "id": "49052eee-72c8-4fae-bc64-3f615faee5ef",
   "metadata": {},
   "outputs": [],
   "source": [
    "import warnings\n",
    "warnings.filterwarnings(\"ignore\")"
   ]
  },
  {
   "cell_type": "markdown",
   "id": "a449c340-67e5-455f-b3c1-590215d33e38",
   "metadata": {},
   "source": [
    "# Base"
   ]
  },
  {
   "cell_type": "code",
   "execution_count": 4,
   "id": "728b134f-f05b-4fb7-b4a4-339790eedea5",
   "metadata": {},
   "outputs": [
    {
     "data": {
      "text/html": [
       "<div>\n",
       "<style scoped>\n",
       "    .dataframe tbody tr th:only-of-type {\n",
       "        vertical-align: middle;\n",
       "    }\n",
       "\n",
       "    .dataframe tbody tr th {\n",
       "        vertical-align: top;\n",
       "    }\n",
       "\n",
       "    .dataframe thead th {\n",
       "        text-align: right;\n",
       "    }\n",
       "</style>\n",
       "<table border=\"1\" class=\"dataframe\">\n",
       "  <thead>\n",
       "    <tr style=\"text-align: right;\">\n",
       "      <th></th>\n",
       "      <th>data</th>\n",
       "      <th>abertura</th>\n",
       "      <th>alta</th>\n",
       "      <th>baixa</th>\n",
       "      <th>fechamento</th>\n",
       "      <th>var_abertura</th>\n",
       "      <th>media_movel_180</th>\n",
       "      <th>media_movel_240</th>\n",
       "      <th>media_movel_360</th>\n",
       "      <th>media_movel_480</th>\n",
       "    </tr>\n",
       "  </thead>\n",
       "  <tbody>\n",
       "    <tr>\n",
       "      <th>0</th>\n",
       "      <td>1995-02-27</td>\n",
       "      <td>3217.399902</td>\n",
       "      <td>3345.800049</td>\n",
       "      <td>3184.399902</td>\n",
       "      <td>3270.899902</td>\n",
       "      <td>0.000000</td>\n",
       "      <td>4404.944448</td>\n",
       "      <td>3785.654587</td>\n",
       "      <td>2719.633892</td>\n",
       "      <td>2057.587711</td>\n",
       "    </tr>\n",
       "    <tr>\n",
       "      <th>1</th>\n",
       "      <td>1995-02-28</td>\n",
       "      <td>3217.399902</td>\n",
       "      <td>3345.800049</td>\n",
       "      <td>3184.399902</td>\n",
       "      <td>3270.899902</td>\n",
       "      <td>0.000000</td>\n",
       "      <td>4404.830560</td>\n",
       "      <td>3792.938337</td>\n",
       "      <td>2728.090837</td>\n",
       "      <td>2064.238961</td>\n",
       "    </tr>\n",
       "    <tr>\n",
       "      <th>2</th>\n",
       "      <td>1995-03-01</td>\n",
       "      <td>3217.399902</td>\n",
       "      <td>3345.800049</td>\n",
       "      <td>3184.399902</td>\n",
       "      <td>3270.899902</td>\n",
       "      <td>0.000000</td>\n",
       "      <td>4404.943892</td>\n",
       "      <td>3800.340836</td>\n",
       "      <td>2736.526114</td>\n",
       "      <td>2070.890836</td>\n",
       "    </tr>\n",
       "    <tr>\n",
       "      <th>3</th>\n",
       "      <td>1995-03-02</td>\n",
       "      <td>3270.899902</td>\n",
       "      <td>3270.899902</td>\n",
       "      <td>2970.199951</td>\n",
       "      <td>2989.100098</td>\n",
       "      <td>53.500000</td>\n",
       "      <td>4405.345558</td>\n",
       "      <td>3807.966252</td>\n",
       "      <td>2745.099169</td>\n",
       "      <td>2077.654585</td>\n",
       "    </tr>\n",
       "    <tr>\n",
       "      <th>4</th>\n",
       "      <td>1995-03-03</td>\n",
       "      <td>2989.100098</td>\n",
       "      <td>3018.100098</td>\n",
       "      <td>2841.699951</td>\n",
       "      <td>2988.000000</td>\n",
       "      <td>-281.799804</td>\n",
       "      <td>4404.507225</td>\n",
       "      <td>3814.417502</td>\n",
       "      <td>2752.882781</td>\n",
       "      <td>2083.832502</td>\n",
       "    </tr>\n",
       "  </tbody>\n",
       "</table>\n",
       "</div>"
      ],
      "text/plain": [
       "         data     abertura         alta        baixa   fechamento  \\\n",
       "0  1995-02-27  3217.399902  3345.800049  3184.399902  3270.899902   \n",
       "1  1995-02-28  3217.399902  3345.800049  3184.399902  3270.899902   \n",
       "2  1995-03-01  3217.399902  3345.800049  3184.399902  3270.899902   \n",
       "3  1995-03-02  3270.899902  3270.899902  2970.199951  2989.100098   \n",
       "4  1995-03-03  2989.100098  3018.100098  2841.699951  2988.000000   \n",
       "\n",
       "   var_abertura  media_movel_180  media_movel_240  media_movel_360  \\\n",
       "0      0.000000      4404.944448      3785.654587      2719.633892   \n",
       "1      0.000000      4404.830560      3792.938337      2728.090837   \n",
       "2      0.000000      4404.943892      3800.340836      2736.526114   \n",
       "3     53.500000      4405.345558      3807.966252      2745.099169   \n",
       "4   -281.799804      4404.507225      3814.417502      2752.882781   \n",
       "\n",
       "   media_movel_480  \n",
       "0      2057.587711  \n",
       "1      2064.238961  \n",
       "2      2070.890836  \n",
       "3      2077.654585  \n",
       "4      2083.832502  "
      ]
     },
     "execution_count": 4,
     "metadata": {},
     "output_type": "execute_result"
    }
   ],
   "source": [
    "bvsp = pd.read_csv('bvsp_modelado_original.csv')\n",
    "bvsp.head()"
   ]
  },
  {
   "cell_type": "markdown",
   "id": "d73a5c7d-de4e-4b15-90f3-db3ae5913e41",
   "metadata": {},
   "source": [
    "### Transformar índice em data"
   ]
  },
  {
   "cell_type": "code",
   "execution_count": 5,
   "id": "034e02b6-0f0f-410e-a3bb-2e80990deaac",
   "metadata": {},
   "outputs": [],
   "source": [
    "#transforma coluna em data\n",
    "bvsp['data'] = pd.to_datetime(bvsp['data'])\n",
    "\n",
    "#transforma o índice em data\n",
    "bvsp.set_index('data', inplace=True)"
   ]
  },
  {
   "cell_type": "markdown",
   "id": "fb07d202-cfe9-44cb-92e4-4373cfe58e70",
   "metadata": {},
   "source": [
    "# Importar modelos treinados"
   ]
  },
  {
   "cell_type": "code",
   "execution_count": 6,
   "id": "d932d41f-4ad8-4d7e-a27b-85e2faa518fe",
   "metadata": {},
   "outputs": [],
   "source": [
    "#Fechamento\n",
    "mdl_fechamento = pickle.load(open('mdlfechamento.ridge.v1.sav', 'rb'))\n",
    "\n",
    "#Baixa\n",
    "mdl_baixa = pickle.load(open('mdlbaixa.ridge.v1.sav', 'rb'))\n",
    "\n",
    "#Fechamento\n",
    "mdl_alta = pickle.load(open('mdlalta.ridge.v1.sav', 'rb'))"
   ]
  },
  {
   "cell_type": "markdown",
   "id": "c257d02e-ea80-452a-8301-13dc923437d2",
   "metadata": {},
   "source": [
    "## Inserir valores a serem previstos"
   ]
  },
  {
   "cell_type": "code",
   "execution_count": 7,
   "id": "95cf4eb3-08c3-41ea-85a5-06a537e84d6a",
   "metadata": {},
   "outputs": [
    {
     "name": "stdin",
     "output_type": "stream",
     "text": [
      "VALOR DE ABERTURA =  119392.00\n",
      "DATA:  2021-04-28\n"
     ]
    },
    {
     "name": "stdout",
     "output_type": "stream",
     "text": [
      "==================================================\n",
      "                    RESULTADOS                    \n",
      "==================================================\n",
      "ABERTURA = 119392.0\n",
      "FECHAMENTO = 119490.61\n",
      "BAIXA = 118305.49\n",
      "ALTA = 120518.24\n",
      "==================================================\n",
      "                     VARIAÇÃO                     \n",
      "==================================================\n",
      "ABERTURA X FECHAMENTO = 98.61 / 0.08%\n",
      "BAIXA X ALTA = 2212.75 / 1.84%\n"
     ]
    }
   ],
   "source": [
    "#inserir os dados de abertura\n",
    "abertura = float(input('VALOR DE ABERTURA = '))\n",
    "data = str(input('DATA: '))\n",
    "\n",
    "#cria DataFrame com dados de entrada\n",
    "entrada = pd.DataFrame(data={'abertura':[abertura]}, index=[data])\n",
    "\n",
    "#integra dados ao DataFrame original\n",
    "dados_entrada = bvsp.append(entrada)\n",
    "\n",
    "#exclui colunas para adequar ao modelo\n",
    "dados_entrada.drop(columns=['alta', 'baixa', 'fechamento'], inplace=True)\n",
    "\n",
    "#cria variáveis estatísticas, Lags e diffs\n",
    "dados_entrada['var_abertura'] = dados_entrada['abertura'].diff()\n",
    "dados_entrada['media_movel_180'] = dados_entrada['abertura'].rolling(180).mean()\n",
    "dados_entrada['media_movel_240'] = dados_entrada['abertura'].rolling(240).mean()\n",
    "dados_entrada['media_movel_360'] = dados_entrada['abertura'].rolling(360).mean()\n",
    "dados_entrada['media_movel_480'] = dados_entrada['abertura'].rolling(480).mean()\n",
    "\n",
    "#exclui valores inválidos\n",
    "dados_entrada.dropna(inplace=True)\n",
    "\n",
    "#objeto ajustado para ser inserido no modelo\n",
    "prever = dados_entrada.iloc[-len(entrada)].to_frame().T\n",
    "\n",
    "#prever os valores de fechamento, baixa e alta\n",
    "y_fechamento_previsto = mdl_fechamento.predict(prever)\n",
    "y_baixa_previsto = mdl_baixa.predict(prever)\n",
    "y_alta_previsto = mdl_alta.predict(prever)\n",
    "\n",
    "print('=' * 50)\n",
    "print('RESULTADOS'.center(50))\n",
    "print('=' * 50)\n",
    "print(f'ABERTURA = {abertura}')\n",
    "print(f'FECHAMENTO = {y_fechamento_previsto[0]:.2f}')\n",
    "print(f'BAIXA = {y_baixa_previsto[0]:.2f}')\n",
    "print(f'ALTA = {y_alta_previsto[0]:.2f}')\n",
    "print('=' * 50)\n",
    "print('VARIAÇÃO'.center(50))\n",
    "print('=' * 50)\n",
    "print(f'ABERTURA X FECHAMENTO = {y_fechamento_previsto[0] - abertura:.2f} / {(1-(abertura / y_fechamento_previsto[0]))*100:.2f}%')\n",
    "print(f'BAIXA X ALTA = {y_alta_previsto[0] - y_baixa_previsto[0]:.2f} / {(1-(y_baixa_previsto[0] / y_alta_previsto[0]))*100:.2f}%')"
   ]
  },
  {
   "cell_type": "code",
   "execution_count": 8,
   "id": "74b9bdb9-0dfa-4bc9-9fcd-a22f1a645f43",
   "metadata": {},
   "outputs": [
    {
     "ename": "KeyboardInterrupt",
     "evalue": "Interrupted by user",
     "output_type": "error",
     "traceback": [
      "\u001b[1;31m---------------------------------------------------------------------------\u001b[0m",
      "\u001b[1;31mKeyboardInterrupt\u001b[0m                         Traceback (most recent call last)",
      "\u001b[1;32m<ipython-input-8-5880af1b2817>\u001b[0m in \u001b[0;36m<module>\u001b[1;34m\u001b[0m\n\u001b[0;32m      1\u001b[0m \u001b[1;31m#inserir os dados de abertura\u001b[0m\u001b[1;33m\u001b[0m\u001b[1;33m\u001b[0m\u001b[1;33m\u001b[0m\u001b[0m\n\u001b[1;32m----> 2\u001b[1;33m \u001b[0mabertura\u001b[0m \u001b[1;33m=\u001b[0m \u001b[0mfloat\u001b[0m\u001b[1;33m(\u001b[0m\u001b[0minput\u001b[0m\u001b[1;33m(\u001b[0m\u001b[1;34m'Digite o valor de abertura = '\u001b[0m\u001b[1;33m)\u001b[0m\u001b[1;33m)\u001b[0m\u001b[1;33m\u001b[0m\u001b[1;33m\u001b[0m\u001b[0m\n\u001b[0m\u001b[0;32m      3\u001b[0m \u001b[0mdata\u001b[0m \u001b[1;33m=\u001b[0m \u001b[0mstr\u001b[0m\u001b[1;33m(\u001b[0m\u001b[0minput\u001b[0m\u001b[1;33m(\u001b[0m\u001b[1;34m'Digite a data: '\u001b[0m\u001b[1;33m)\u001b[0m\u001b[1;33m)\u001b[0m\u001b[1;33m\u001b[0m\u001b[1;33m\u001b[0m\u001b[0m\n\u001b[0;32m      4\u001b[0m \u001b[1;33m\u001b[0m\u001b[0m\n\u001b[0;32m      5\u001b[0m \u001b[1;31m#cria DataFrame com dados de entrada\u001b[0m\u001b[1;33m\u001b[0m\u001b[1;33m\u001b[0m\u001b[1;33m\u001b[0m\u001b[0m\n",
      "\u001b[1;32m~\\anaconda3\\lib\\site-packages\\ipykernel\\kernelbase.py\u001b[0m in \u001b[0;36mraw_input\u001b[1;34m(self, prompt)\u001b[0m\n\u001b[0;32m    858\u001b[0m                 \u001b[1;34m\"raw_input was called, but this frontend does not support input requests.\"\u001b[0m\u001b[1;33m\u001b[0m\u001b[1;33m\u001b[0m\u001b[0m\n\u001b[0;32m    859\u001b[0m             )\n\u001b[1;32m--> 860\u001b[1;33m         return self._input_request(str(prompt),\n\u001b[0m\u001b[0;32m    861\u001b[0m             \u001b[0mself\u001b[0m\u001b[1;33m.\u001b[0m\u001b[0m_parent_ident\u001b[0m\u001b[1;33m,\u001b[0m\u001b[1;33m\u001b[0m\u001b[1;33m\u001b[0m\u001b[0m\n\u001b[0;32m    862\u001b[0m             \u001b[0mself\u001b[0m\u001b[1;33m.\u001b[0m\u001b[0m_parent_header\u001b[0m\u001b[1;33m,\u001b[0m\u001b[1;33m\u001b[0m\u001b[1;33m\u001b[0m\u001b[0m\n",
      "\u001b[1;32m~\\anaconda3\\lib\\site-packages\\ipykernel\\kernelbase.py\u001b[0m in \u001b[0;36m_input_request\u001b[1;34m(self, prompt, ident, parent, password)\u001b[0m\n\u001b[0;32m    902\u001b[0m             \u001b[1;32mexcept\u001b[0m \u001b[0mKeyboardInterrupt\u001b[0m\u001b[1;33m:\u001b[0m\u001b[1;33m\u001b[0m\u001b[1;33m\u001b[0m\u001b[0m\n\u001b[0;32m    903\u001b[0m                 \u001b[1;31m# re-raise KeyboardInterrupt, to truncate traceback\u001b[0m\u001b[1;33m\u001b[0m\u001b[1;33m\u001b[0m\u001b[1;33m\u001b[0m\u001b[0m\n\u001b[1;32m--> 904\u001b[1;33m                 \u001b[1;32mraise\u001b[0m \u001b[0mKeyboardInterrupt\u001b[0m\u001b[1;33m(\u001b[0m\u001b[1;34m\"Interrupted by user\"\u001b[0m\u001b[1;33m)\u001b[0m \u001b[1;32mfrom\u001b[0m \u001b[1;32mNone\u001b[0m\u001b[1;33m\u001b[0m\u001b[1;33m\u001b[0m\u001b[0m\n\u001b[0m\u001b[0;32m    905\u001b[0m             \u001b[1;32mexcept\u001b[0m \u001b[0mException\u001b[0m \u001b[1;32mas\u001b[0m \u001b[0me\u001b[0m\u001b[1;33m:\u001b[0m\u001b[1;33m\u001b[0m\u001b[1;33m\u001b[0m\u001b[0m\n\u001b[0;32m    906\u001b[0m                 \u001b[0mself\u001b[0m\u001b[1;33m.\u001b[0m\u001b[0mlog\u001b[0m\u001b[1;33m.\u001b[0m\u001b[0mwarning\u001b[0m\u001b[1;33m(\u001b[0m\u001b[1;34m\"Invalid Message:\"\u001b[0m\u001b[1;33m,\u001b[0m \u001b[0mexc_info\u001b[0m\u001b[1;33m=\u001b[0m\u001b[1;32mTrue\u001b[0m\u001b[1;33m)\u001b[0m\u001b[1;33m\u001b[0m\u001b[1;33m\u001b[0m\u001b[0m\n",
      "\u001b[1;31mKeyboardInterrupt\u001b[0m: Interrupted by user"
     ]
    }
   ],
   "source": [
    "#inserir os dados de abertura\n",
    "abertura = float(input('Digite o valor de abertura = '))\n",
    "data = str(input('Digite a data: '))\n",
    "\n",
    "#cria DataFrame com dados de entrada\n",
    "entrada = pd.DataFrame(data={'abertura':[abertura]}, index=[data])\n",
    "\n",
    "#integra dados ao DataFrame original\n",
    "dados_entrada = bvsp.append(entrada)\n",
    "\n",
    "#exclui colunas para adequar ao modelo\n",
    "dados_entrada.drop(columns=['alta', 'baixa', 'fechamento'], inplace=True)\n",
    "\n",
    "#cria variáveis estatísticas, Lags e diffs\n",
    "dados_entrada['var_abertura'] = dados_entrada['abertura'].diff()\n",
    "dados_entrada['media_movel_180'] = dados_entrada['abertura'].rolling(180).mean()\n",
    "dados_entrada['media_movel_240'] = dados_entrada['abertura'].rolling(240).mean()\n",
    "dados_entrada['media_movel_360'] = dados_entrada['abertura'].rolling(360).mean()\n",
    "dados_entrada['media_movel_480'] = dados_entrada['abertura'].rolling(480).mean()\n",
    "\n",
    "#exclui valores inválidos\n",
    "dados_entrada.dropna(inplace=True)\n",
    "\n",
    "#objeto ajustado para ser inserido no modelo\n",
    "prever = dados_entrada.iloc[-len(entrada)].to_frame().T\n",
    "\n",
    "#previsão do modelo\n",
    "modelo.predict(prever)"
   ]
  }
 ],
 "metadata": {
  "kernelspec": {
   "display_name": "Python 3",
   "language": "python",
   "name": "python3"
  },
  "language_info": {
   "codemirror_mode": {
    "name": "ipython",
    "version": 3
   },
   "file_extension": ".py",
   "mimetype": "text/x-python",
   "name": "python",
   "nbconvert_exporter": "python",
   "pygments_lexer": "ipython3",
   "version": "3.8.8"
  }
 },
 "nbformat": 4,
 "nbformat_minor": 5
}
